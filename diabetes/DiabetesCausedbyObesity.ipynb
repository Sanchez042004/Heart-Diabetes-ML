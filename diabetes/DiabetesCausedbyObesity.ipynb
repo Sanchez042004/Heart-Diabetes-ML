{
 "cells": [
  {
   "cell_type": "markdown",
   "metadata": {},
   "source": [
    "### Author: Andrés Felipe Sánchez Arias\n",
    "Date: Jun-03-2024\n",
    "Last actualization: Jun-04-2024"
   ]
  },
  {
   "cell_type": "markdown",
   "metadata": {},
   "source": [
    "#### Detecting Diabetes caused by Obesity\n",
    "\n",
    "This Jupyter notebook aims to explore the relationship between Body Mass Index (BMI) categories and diabetes prevalence within a given dataset. \n",
    "\n",
    "It begins by categorizing individuals into distinct BMI categories based on their BMI values, ranging from \"Underweight\" to \"Obese Class III\". Subsequently, it calculates the total number of diabetes cases within each BMI category and the overall count of individuals represented in each category. \n",
    "\n",
    "This analysis provides valuable insights into how BMI levels correlate with the prevalence of diabetes, offering a visual representation through a bar chart. "
   ]
  },
  {
   "cell_type": "code",
   "execution_count": 1,
   "metadata": {},
   "outputs": [],
   "source": [
    "import pandas as pd\n",
    "import matplotlib.pyplot as plt\n",
    "\n",
    "import sys\n",
    "import os\n",
    "sys.path.append(os.path.abspath('../'))"
   ]
  },
  {
   "cell_type": "code",
   "execution_count": 2,
   "metadata": {},
   "outputs": [],
   "source": [
    "input_csv = '../datasets/diabetes.csv'"
   ]
  },
  {
   "cell_type": "code",
   "execution_count": 3,
   "metadata": {},
   "outputs": [],
   "source": [
    "data = pd.read_csv(input_csv)"
   ]
  },
  {
   "cell_type": "code",
   "execution_count": 4,
   "metadata": {},
   "outputs": [
    {
     "data": {
      "text/html": [
       "<div>\n",
       "<style scoped>\n",
       "    .dataframe tbody tr th:only-of-type {\n",
       "        vertical-align: middle;\n",
       "    }\n",
       "\n",
       "    .dataframe tbody tr th {\n",
       "        vertical-align: top;\n",
       "    }\n",
       "\n",
       "    .dataframe thead th {\n",
       "        text-align: right;\n",
       "    }\n",
       "</style>\n",
       "<table border=\"1\" class=\"dataframe\">\n",
       "  <thead>\n",
       "    <tr style=\"text-align: right;\">\n",
       "      <th></th>\n",
       "      <th>Pregnancies</th>\n",
       "      <th>Glucose</th>\n",
       "      <th>BloodPressure</th>\n",
       "      <th>SkinThickness</th>\n",
       "      <th>Insulin</th>\n",
       "      <th>BMI</th>\n",
       "      <th>DiabetesPedigreeFunction</th>\n",
       "      <th>Age</th>\n",
       "      <th>Outcome</th>\n",
       "    </tr>\n",
       "  </thead>\n",
       "  <tbody>\n",
       "    <tr>\n",
       "      <th>0</th>\n",
       "      <td>6</td>\n",
       "      <td>148</td>\n",
       "      <td>72</td>\n",
       "      <td>35</td>\n",
       "      <td>0</td>\n",
       "      <td>33.6</td>\n",
       "      <td>0.627</td>\n",
       "      <td>50</td>\n",
       "      <td>1</td>\n",
       "    </tr>\n",
       "    <tr>\n",
       "      <th>1</th>\n",
       "      <td>1</td>\n",
       "      <td>85</td>\n",
       "      <td>66</td>\n",
       "      <td>29</td>\n",
       "      <td>0</td>\n",
       "      <td>26.6</td>\n",
       "      <td>0.351</td>\n",
       "      <td>31</td>\n",
       "      <td>0</td>\n",
       "    </tr>\n",
       "    <tr>\n",
       "      <th>2</th>\n",
       "      <td>8</td>\n",
       "      <td>183</td>\n",
       "      <td>64</td>\n",
       "      <td>0</td>\n",
       "      <td>0</td>\n",
       "      <td>23.3</td>\n",
       "      <td>0.672</td>\n",
       "      <td>32</td>\n",
       "      <td>1</td>\n",
       "    </tr>\n",
       "    <tr>\n",
       "      <th>3</th>\n",
       "      <td>1</td>\n",
       "      <td>89</td>\n",
       "      <td>66</td>\n",
       "      <td>23</td>\n",
       "      <td>94</td>\n",
       "      <td>28.1</td>\n",
       "      <td>0.167</td>\n",
       "      <td>21</td>\n",
       "      <td>0</td>\n",
       "    </tr>\n",
       "    <tr>\n",
       "      <th>4</th>\n",
       "      <td>0</td>\n",
       "      <td>137</td>\n",
       "      <td>40</td>\n",
       "      <td>35</td>\n",
       "      <td>168</td>\n",
       "      <td>43.1</td>\n",
       "      <td>2.288</td>\n",
       "      <td>33</td>\n",
       "      <td>1</td>\n",
       "    </tr>\n",
       "  </tbody>\n",
       "</table>\n",
       "</div>"
      ],
      "text/plain": [
       "   Pregnancies  Glucose  BloodPressure  SkinThickness  Insulin   BMI  \\\n",
       "0            6      148             72             35        0  33.6   \n",
       "1            1       85             66             29        0  26.6   \n",
       "2            8      183             64              0        0  23.3   \n",
       "3            1       89             66             23       94  28.1   \n",
       "4            0      137             40             35      168  43.1   \n",
       "\n",
       "   DiabetesPedigreeFunction  Age  Outcome  \n",
       "0                     0.627   50        1  \n",
       "1                     0.351   31        0  \n",
       "2                     0.672   32        1  \n",
       "3                     0.167   21        0  \n",
       "4                     2.288   33        1  "
      ]
     },
     "execution_count": 4,
     "metadata": {},
     "output_type": "execute_result"
    }
   ],
   "source": [
    "data.head()"
   ]
  },
  {
   "cell_type": "code",
   "execution_count": 5,
   "metadata": {},
   "outputs": [
    {
     "name": "stdout",
     "output_type": "stream",
     "text": [
      "Underweight: 0 diabetes cases out of 4 total recorded data\n",
      "Normal: 7 diabetes cases out of 108 total recorded data\n",
      "Overweight: 44 diabetes cases out of 180 total recorded data\n",
      "Obese Class I: 100 diabetes cases out of 221 total recorded data\n",
      "Obese Class II: 61 diabetes cases out of 148 total recorded data\n",
      "Obese Class III: 54 diabetes cases out of 96 total recorded data\n"
     ]
    },
    {
     "data": {
      "image/png": "[encoded data removed]",
      "text/plain": [
       "<Figure size 1000x600 with 1 Axes>"
      ]
     },
     "metadata": {},
     "output_type": "display_data"
    }
   ],
   "source": [
    "# Define BMI bins and labels to categorize individuals\n",
    "bmi_bins = [0, 18.5, 25, 30, 35, 40, 100]\n",
    "bmi_labels = [\"Underweight\", \"Normal\", \"Overweight\", \"Obese Class I\", \"Obese Class II\", \"Obese Class III\"]\n",
    "\n",
    "# Categorize individuals based on their BMI into distinct BMI categories\n",
    "data[\"BMI_Category\"] = pd.cut(data[\"BMI\"], bins=bmi_bins, labels=bmi_labels)\n",
    "\n",
    "# Initialize dictionaries to store diabetes cases and total cases for each BMI category\n",
    "bmi_diabetes_cases = {}\n",
    "bmi_total_cases = {}\n",
    "\n",
    "# Iterate over each BMI category label\n",
    "for label in bmi_labels:\n",
    "    # Filter the dataset to subset individuals belonging to the current BMI category\n",
    "    subset_df = data[data[\"BMI_Category\"] == label]\n",
    "    \n",
    "    # Count the number of diabetes cases within the current BMI category\n",
    "    bmi_diabetes_cases[label] = len(subset_df[subset_df[\"Outcome\"] == 1])\n",
    "    \n",
    "    # Count the total number of individuals represented in the current BMI category\n",
    "    bmi_total_cases[label] = len(subset_df)\n",
    "\n",
    "# Display the number of diabetes cases and total recorded data for each BMI category\n",
    "for label in bmi_labels:\n",
    "    print(\"{}: {} diabetes cases out of {} total recorded data\".format(label, bmi_diabetes_cases[label], bmi_total_cases[label]))\n",
    "\n",
    "# Visualize the results using a bar chart\n",
    "plt.figure(figsize=(10, 6))\n",
    "plt.bar(bmi_diabetes_cases.keys(), bmi_total_cases.values(), color=\"orange\")\n",
    "plt.title(\"Total number of cases for each BMI category\")\n",
    "plt.xlabel(\"BMI Category\")\n",
    "plt.ylabel(\"Total Number of Cases\")\n",
    "plt.xticks(rotation=45)\n",
    "plt.grid(axis='y')\n",
    "plt.show()\n"
   ]
  }
 ],
 "metadata": {
  "kernelspec": {
   "display_name": "Python 3",
   "language": "python",
   "name": "python3"
  },
  "language_info": {
   "codemirror_mode": {
    "name": "ipython",
    "version": 3
   },
   "file_extension": ".py",
   "mimetype": "text/x-python",
   "name": "python",
   "nbconvert_exporter": "python",
   "pygments_lexer": "ipython3",
   "version": "3.11.0"
  }
 },
 "nbformat": 4,
 "nbformat_minor": 2
}
